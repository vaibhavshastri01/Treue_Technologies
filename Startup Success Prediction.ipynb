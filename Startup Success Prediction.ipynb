{
 "cells": [
  {
   "cell_type": "markdown",
   "id": "60e01fc2",
   "metadata": {},
   "source": [
    "# Startup success rate prediction\n",
    "Exploring startup success prediction using a Random Forest model, visualizing data with charts to gain insights into key factors"
   ]
  },
  {
   "cell_type": "code",
   "execution_count": 1,
   "id": "358a44ce",
   "metadata": {},
   "outputs": [],
   "source": [
    "# Importing libreries\n",
    "import numpy as np\n",
    "import pandas as pd \n",
    "import matplotlib.pyplot as plt\n",
    "import seaborn as sns\n",
    "from sklearn.model_selection import train_test_split\n",
    "from sklearn.preprocessing import StandardScaler\n",
    "from sklearn.ensemble import RandomForestClassifier\n",
    "from sklearn.metrics import accuracy_score, classification_report, confusion_matrix"
   ]
  },
  {
   "cell_type": "code",
   "execution_count": 2,
   "id": "75d2cd10",
   "metadata": {},
   "outputs": [
    {
     "name": "stdout",
     "output_type": "stream",
     "text": [
      "Shape of Data:  (923, 49)\n"
     ]
    }
   ],
   "source": [
    "#readind data\n",
    "data= pd.read_csv(\"startup data.csv\")\n",
    "print(\"Shape of Data: \", data.shape)"
   ]
  },
  {
   "cell_type": "code",
   "execution_count": 3,
   "id": "fe6337af",
   "metadata": {},
   "outputs": [
    {
     "data": {
      "text/html": [
       "<div>\n",
       "<style scoped>\n",
       "    .dataframe tbody tr th:only-of-type {\n",
       "        vertical-align: middle;\n",
       "    }\n",
       "\n",
       "    .dataframe tbody tr th {\n",
       "        vertical-align: top;\n",
       "    }\n",
       "\n",
       "    .dataframe thead th {\n",
       "        text-align: right;\n",
       "    }\n",
       "</style>\n",
       "<table border=\"1\" class=\"dataframe\">\n",
       "  <thead>\n",
       "    <tr style=\"text-align: right;\">\n",
       "      <th></th>\n",
       "      <th>Unnamed: 0</th>\n",
       "      <th>state_code</th>\n",
       "      <th>latitude</th>\n",
       "      <th>longitude</th>\n",
       "      <th>zip_code</th>\n",
       "      <th>id</th>\n",
       "      <th>city</th>\n",
       "      <th>Unnamed: 6</th>\n",
       "      <th>name</th>\n",
       "      <th>labels</th>\n",
       "      <th>...</th>\n",
       "      <th>object_id</th>\n",
       "      <th>has_VC</th>\n",
       "      <th>has_angel</th>\n",
       "      <th>has_roundA</th>\n",
       "      <th>has_roundB</th>\n",
       "      <th>has_roundC</th>\n",
       "      <th>has_roundD</th>\n",
       "      <th>avg_participants</th>\n",
       "      <th>is_top500</th>\n",
       "      <th>status</th>\n",
       "    </tr>\n",
       "  </thead>\n",
       "  <tbody>\n",
       "    <tr>\n",
       "      <th>0</th>\n",
       "      <td>1005</td>\n",
       "      <td>CA</td>\n",
       "      <td>42.358880</td>\n",
       "      <td>-71.056820</td>\n",
       "      <td>92101</td>\n",
       "      <td>c:6669</td>\n",
       "      <td>San Diego</td>\n",
       "      <td>NaN</td>\n",
       "      <td>Bandsintown</td>\n",
       "      <td>1</td>\n",
       "      <td>...</td>\n",
       "      <td>c:6669</td>\n",
       "      <td>0</td>\n",
       "      <td>1</td>\n",
       "      <td>0</td>\n",
       "      <td>0</td>\n",
       "      <td>0</td>\n",
       "      <td>0</td>\n",
       "      <td>1.0000</td>\n",
       "      <td>0</td>\n",
       "      <td>acquired</td>\n",
       "    </tr>\n",
       "    <tr>\n",
       "      <th>1</th>\n",
       "      <td>204</td>\n",
       "      <td>CA</td>\n",
       "      <td>37.238916</td>\n",
       "      <td>-121.973718</td>\n",
       "      <td>95032</td>\n",
       "      <td>c:16283</td>\n",
       "      <td>Los Gatos</td>\n",
       "      <td>NaN</td>\n",
       "      <td>TriCipher</td>\n",
       "      <td>1</td>\n",
       "      <td>...</td>\n",
       "      <td>c:16283</td>\n",
       "      <td>1</td>\n",
       "      <td>0</td>\n",
       "      <td>0</td>\n",
       "      <td>1</td>\n",
       "      <td>1</td>\n",
       "      <td>1</td>\n",
       "      <td>4.7500</td>\n",
       "      <td>1</td>\n",
       "      <td>acquired</td>\n",
       "    </tr>\n",
       "    <tr>\n",
       "      <th>2</th>\n",
       "      <td>1001</td>\n",
       "      <td>CA</td>\n",
       "      <td>32.901049</td>\n",
       "      <td>-117.192656</td>\n",
       "      <td>92121</td>\n",
       "      <td>c:65620</td>\n",
       "      <td>San Diego</td>\n",
       "      <td>San Diego CA 92121</td>\n",
       "      <td>Plixi</td>\n",
       "      <td>1</td>\n",
       "      <td>...</td>\n",
       "      <td>c:65620</td>\n",
       "      <td>0</td>\n",
       "      <td>0</td>\n",
       "      <td>1</td>\n",
       "      <td>0</td>\n",
       "      <td>0</td>\n",
       "      <td>0</td>\n",
       "      <td>4.0000</td>\n",
       "      <td>1</td>\n",
       "      <td>acquired</td>\n",
       "    </tr>\n",
       "    <tr>\n",
       "      <th>3</th>\n",
       "      <td>738</td>\n",
       "      <td>CA</td>\n",
       "      <td>37.320309</td>\n",
       "      <td>-122.050040</td>\n",
       "      <td>95014</td>\n",
       "      <td>c:42668</td>\n",
       "      <td>Cupertino</td>\n",
       "      <td>Cupertino CA 95014</td>\n",
       "      <td>Solidcore Systems</td>\n",
       "      <td>1</td>\n",
       "      <td>...</td>\n",
       "      <td>c:42668</td>\n",
       "      <td>0</td>\n",
       "      <td>0</td>\n",
       "      <td>0</td>\n",
       "      <td>1</td>\n",
       "      <td>1</td>\n",
       "      <td>1</td>\n",
       "      <td>3.3333</td>\n",
       "      <td>1</td>\n",
       "      <td>acquired</td>\n",
       "    </tr>\n",
       "    <tr>\n",
       "      <th>4</th>\n",
       "      <td>1002</td>\n",
       "      <td>CA</td>\n",
       "      <td>37.779281</td>\n",
       "      <td>-122.419236</td>\n",
       "      <td>94105</td>\n",
       "      <td>c:65806</td>\n",
       "      <td>San Francisco</td>\n",
       "      <td>San Francisco CA 94105</td>\n",
       "      <td>Inhale Digital</td>\n",
       "      <td>0</td>\n",
       "      <td>...</td>\n",
       "      <td>c:65806</td>\n",
       "      <td>1</td>\n",
       "      <td>1</td>\n",
       "      <td>0</td>\n",
       "      <td>0</td>\n",
       "      <td>0</td>\n",
       "      <td>0</td>\n",
       "      <td>1.0000</td>\n",
       "      <td>1</td>\n",
       "      <td>closed</td>\n",
       "    </tr>\n",
       "  </tbody>\n",
       "</table>\n",
       "<p>5 rows × 49 columns</p>\n",
       "</div>"
      ],
      "text/plain": [
       "   Unnamed: 0 state_code   latitude   longitude zip_code       id  \\\n",
       "0        1005         CA  42.358880  -71.056820    92101   c:6669   \n",
       "1         204         CA  37.238916 -121.973718    95032  c:16283   \n",
       "2        1001         CA  32.901049 -117.192656    92121  c:65620   \n",
       "3         738         CA  37.320309 -122.050040    95014  c:42668   \n",
       "4        1002         CA  37.779281 -122.419236    94105  c:65806   \n",
       "\n",
       "            city              Unnamed: 6               name  labels  ...  \\\n",
       "0      San Diego                     NaN        Bandsintown       1  ...   \n",
       "1      Los Gatos                     NaN          TriCipher       1  ...   \n",
       "2      San Diego      San Diego CA 92121              Plixi       1  ...   \n",
       "3      Cupertino      Cupertino CA 95014  Solidcore Systems       1  ...   \n",
       "4  San Francisco  San Francisco CA 94105     Inhale Digital       0  ...   \n",
       "\n",
       "  object_id has_VC has_angel has_roundA  has_roundB  has_roundC  has_roundD  \\\n",
       "0    c:6669      0         1          0           0           0           0   \n",
       "1   c:16283      1         0          0           1           1           1   \n",
       "2   c:65620      0         0          1           0           0           0   \n",
       "3   c:42668      0         0          0           1           1           1   \n",
       "4   c:65806      1         1          0           0           0           0   \n",
       "\n",
       "   avg_participants  is_top500    status  \n",
       "0            1.0000          0  acquired  \n",
       "1            4.7500          1  acquired  \n",
       "2            4.0000          1  acquired  \n",
       "3            3.3333          1  acquired  \n",
       "4            1.0000          1    closed  \n",
       "\n",
       "[5 rows x 49 columns]"
      ]
     },
     "execution_count": 3,
     "metadata": {},
     "output_type": "execute_result"
    }
   ],
   "source": [
    "data.head()"
   ]
  },
  {
   "cell_type": "code",
   "execution_count": 4,
   "id": "a1041d68",
   "metadata": {},
   "outputs": [
    {
     "name": "stdout",
     "output_type": "stream",
     "text": [
      "<class 'pandas.core.frame.DataFrame'>\n",
      "RangeIndex: 923 entries, 0 to 922\n",
      "Data columns (total 49 columns):\n",
      " #   Column                    Non-Null Count  Dtype  \n",
      "---  ------                    --------------  -----  \n",
      " 0   Unnamed: 0                923 non-null    int64  \n",
      " 1   state_code                923 non-null    object \n",
      " 2   latitude                  923 non-null    float64\n",
      " 3   longitude                 923 non-null    float64\n",
      " 4   zip_code                  923 non-null    object \n",
      " 5   id                        923 non-null    object \n",
      " 6   city                      923 non-null    object \n",
      " 7   Unnamed: 6                430 non-null    object \n",
      " 8   name                      923 non-null    object \n",
      " 9   labels                    923 non-null    int64  \n",
      " 10  founded_at                923 non-null    object \n",
      " 11  closed_at                 335 non-null    object \n",
      " 12  first_funding_at          923 non-null    object \n",
      " 13  last_funding_at           923 non-null    object \n",
      " 14  age_first_funding_year    923 non-null    float64\n",
      " 15  age_last_funding_year     923 non-null    float64\n",
      " 16  age_first_milestone_year  771 non-null    float64\n",
      " 17  age_last_milestone_year   771 non-null    float64\n",
      " 18  relationships             923 non-null    int64  \n",
      " 19  funding_rounds            923 non-null    int64  \n",
      " 20  funding_total_usd         923 non-null    int64  \n",
      " 21  milestones                923 non-null    int64  \n",
      " 22  state_code.1              922 non-null    object \n",
      " 23  is_CA                     923 non-null    int64  \n",
      " 24  is_NY                     923 non-null    int64  \n",
      " 25  is_MA                     923 non-null    int64  \n",
      " 26  is_TX                     923 non-null    int64  \n",
      " 27  is_otherstate             923 non-null    int64  \n",
      " 28  category_code             923 non-null    object \n",
      " 29  is_software               923 non-null    int64  \n",
      " 30  is_web                    923 non-null    int64  \n",
      " 31  is_mobile                 923 non-null    int64  \n",
      " 32  is_enterprise             923 non-null    int64  \n",
      " 33  is_advertising            923 non-null    int64  \n",
      " 34  is_gamesvideo             923 non-null    int64  \n",
      " 35  is_ecommerce              923 non-null    int64  \n",
      " 36  is_biotech                923 non-null    int64  \n",
      " 37  is_consulting             923 non-null    int64  \n",
      " 38  is_othercategory          923 non-null    int64  \n",
      " 39  object_id                 923 non-null    object \n",
      " 40  has_VC                    923 non-null    int64  \n",
      " 41  has_angel                 923 non-null    int64  \n",
      " 42  has_roundA                923 non-null    int64  \n",
      " 43  has_roundB                923 non-null    int64  \n",
      " 44  has_roundC                923 non-null    int64  \n",
      " 45  has_roundD                923 non-null    int64  \n",
      " 46  avg_participants          923 non-null    float64\n",
      " 47  is_top500                 923 non-null    int64  \n",
      " 48  status                    923 non-null    object \n",
      "dtypes: float64(7), int64(28), object(14)\n",
      "memory usage: 353.5+ KB\n"
     ]
    }
   ],
   "source": [
    "data.info()"
   ]
  },
  {
   "cell_type": "code",
   "execution_count": 5,
   "id": "28159186",
   "metadata": {},
   "outputs": [],
   "source": [
    "data[\"first_funding_at\"]= pd.to_datetime(data[\"first_funding_at\"])\n",
    "data[\"last_funding_at\"]= pd.to_datetime(data[\"last_funding_at\"])\n",
    "data[\"founded_at\"]= pd.to_datetime(data[\"founded_at\"])\n",
    "data[\"closed_at\"]= pd.to_datetime(data[\"closed_at\"])"
   ]
  },
  {
   "cell_type": "code",
   "execution_count": 6,
   "id": "89882778",
   "metadata": {},
   "outputs": [
    {
     "name": "stdout",
     "output_type": "stream",
     "text": [
      "Index(['Unnamed: 0', 'state_code', 'latitude', 'longitude', 'zip_code', 'id',\n",
      "       'city', 'Unnamed: 6', 'name', 'labels', 'founded_at', 'closed_at',\n",
      "       'first_funding_at', 'last_funding_at', 'age_first_funding_year',\n",
      "       'age_last_funding_year', 'age_first_milestone_year',\n",
      "       'age_last_milestone_year', 'relationships', 'funding_rounds',\n",
      "       'funding_total_usd', 'milestones', 'state_code.1', 'is_CA', 'is_NY',\n",
      "       'is_MA', 'is_TX', 'is_otherstate', 'category_code', 'is_software',\n",
      "       'is_web', 'is_mobile', 'is_enterprise', 'is_advertising',\n",
      "       'is_gamesvideo', 'is_ecommerce', 'is_biotech', 'is_consulting',\n",
      "       'is_othercategory', 'object_id', 'has_VC', 'has_angel', 'has_roundA',\n",
      "       'has_roundB', 'has_roundC', 'has_roundD', 'avg_participants',\n",
      "       'is_top500', 'status'],\n",
      "      dtype='object')\n"
     ]
    }
   ],
   "source": [
    "print(data.columns)"
   ]
  },
  {
   "cell_type": "markdown",
   "id": "04dddaeb",
   "metadata": {},
   "source": [
    "Here, We can see the dataset contains both columns i.e. categorical and encoded. "
   ]
  },
  {
   "cell_type": "code",
   "execution_count": 7,
   "id": "a3d2ee87",
   "metadata": {},
   "outputs": [],
   "source": [
    "# Drop irrelevant columns \n",
    "data.drop(columns=['Unnamed: 0', 'Unnamed: 6', 'id', 'object_id'], inplace=True)"
   ]
  },
  {
   "cell_type": "markdown",
   "id": "7d109eb7",
   "metadata": {},
   "source": [
    "### EDA and data visualization"
   ]
  },
  {
   "cell_type": "code",
   "execution_count": 8,
   "id": "bc98999a",
   "metadata": {},
   "outputs": [
    {
     "name": "stderr",
     "output_type": "stream",
     "text": [
      "C:\\Users\\Vaibhav\\AppData\\Local\\Temp\\ipykernel_12396\\504301918.py:2: FutureWarning: Treating datetime data as categorical rather than numeric in `.describe` is deprecated and will be removed in a future version of pandas. Specify `datetime_is_numeric=True` to silence this warning and adopt the future behavior now.\n",
      "  print(data.describe(include=\"all\"))\n",
      "C:\\Users\\Vaibhav\\AppData\\Local\\Temp\\ipykernel_12396\\504301918.py:2: FutureWarning: Treating datetime data as categorical rather than numeric in `.describe` is deprecated and will be removed in a future version of pandas. Specify `datetime_is_numeric=True` to silence this warning and adopt the future behavior now.\n",
      "  print(data.describe(include=\"all\"))\n",
      "C:\\Users\\Vaibhav\\AppData\\Local\\Temp\\ipykernel_12396\\504301918.py:2: FutureWarning: Treating datetime data as categorical rather than numeric in `.describe` is deprecated and will be removed in a future version of pandas. Specify `datetime_is_numeric=True` to silence this warning and adopt the future behavior now.\n",
      "  print(data.describe(include=\"all\"))\n",
      "C:\\Users\\Vaibhav\\AppData\\Local\\Temp\\ipykernel_12396\\504301918.py:2: FutureWarning: Treating datetime data as categorical rather than numeric in `.describe` is deprecated and will be removed in a future version of pandas. Specify `datetime_is_numeric=True` to silence this warning and adopt the future behavior now.\n",
      "  print(data.describe(include=\"all\"))\n"
     ]
    },
    {
     "name": "stdout",
     "output_type": "stream",
     "text": [
      "       state_code    latitude   longitude zip_code           city  \\\n",
      "count         923  923.000000  923.000000      923            923   \n",
      "unique         35         NaN         NaN      382            221   \n",
      "top            CA         NaN         NaN    94107  San Francisco   \n",
      "freq          488         NaN         NaN       30            128   \n",
      "first         NaN         NaN         NaN      NaN            NaN   \n",
      "last          NaN         NaN         NaN      NaN            NaN   \n",
      "mean          NaN   38.517442 -103.539212      NaN            NaN   \n",
      "std           NaN    3.741497   22.394167      NaN            NaN   \n",
      "min           NaN   25.752358 -122.756956      NaN            NaN   \n",
      "25%           NaN   37.388869 -122.198732      NaN            NaN   \n",
      "50%           NaN   37.779281 -118.374037      NaN            NaN   \n",
      "75%           NaN   40.730646  -77.214731      NaN            NaN   \n",
      "max           NaN   59.335232   18.057121      NaN            NaN   \n",
      "\n",
      "                   name      labels           founded_at            closed_at  \\\n",
      "count               923  923.000000                  923                  335   \n",
      "unique              922         NaN                  217                  202   \n",
      "top     Redwood Systems         NaN  2003-01-01 00:00:00  2013-06-01 00:00:00   \n",
      "freq                  2         NaN                   55                   25   \n",
      "first               NaN         NaN  1984-01-01 00:00:00  2001-01-01 00:00:00   \n",
      "last                NaN         NaN  2013-04-16 00:00:00  2013-10-30 00:00:00   \n",
      "mean                NaN    0.646804                  NaN                  NaN   \n",
      "std                 NaN    0.478222                  NaN                  NaN   \n",
      "min                 NaN    0.000000                  NaN                  NaN   \n",
      "25%                 NaN    0.000000                  NaN                  NaN   \n",
      "50%                 NaN    1.000000                  NaN                  NaN   \n",
      "75%                 NaN    1.000000                  NaN                  NaN   \n",
      "max                 NaN    1.000000                  NaN                  NaN   \n",
      "\n",
      "           first_funding_at  ... is_othercategory      has_VC   has_angel  \\\n",
      "count                   923  ...       923.000000  923.000000  923.000000   \n",
      "unique                  585  ...              NaN         NaN         NaN   \n",
      "top     2008-01-01 00:00:00  ...              NaN         NaN         NaN   \n",
      "freq                     18  ...              NaN         NaN         NaN   \n",
      "first   2000-01-01 00:00:00  ...              NaN         NaN         NaN   \n",
      "last    2013-11-20 00:00:00  ...              NaN         NaN         NaN   \n",
      "mean                    NaN  ...         0.322860    0.326111    0.254605   \n",
      "std                     NaN  ...         0.467823    0.469042    0.435875   \n",
      "min                     NaN  ...         0.000000    0.000000    0.000000   \n",
      "25%                     NaN  ...         0.000000    0.000000    0.000000   \n",
      "50%                     NaN  ...         0.000000    0.000000    0.000000   \n",
      "75%                     NaN  ...         1.000000    1.000000    1.000000   \n",
      "max                     NaN  ...         1.000000    1.000000    1.000000   \n",
      "\n",
      "        has_roundA  has_roundB  has_roundC  has_roundD  avg_participants  \\\n",
      "count   923.000000  923.000000  923.000000  923.000000        923.000000   \n",
      "unique         NaN         NaN         NaN         NaN               NaN   \n",
      "top            NaN         NaN         NaN         NaN               NaN   \n",
      "freq           NaN         NaN         NaN         NaN               NaN   \n",
      "first          NaN         NaN         NaN         NaN               NaN   \n",
      "last           NaN         NaN         NaN         NaN               NaN   \n",
      "mean      0.508126    0.392199    0.232936    0.099675          2.838586   \n",
      "std       0.500205    0.488505    0.422931    0.299729          1.874601   \n",
      "min       0.000000    0.000000    0.000000    0.000000          1.000000   \n",
      "25%       0.000000    0.000000    0.000000    0.000000          1.500000   \n",
      "50%       1.000000    0.000000    0.000000    0.000000          2.500000   \n",
      "75%       1.000000    1.000000    0.000000    0.000000          3.800000   \n",
      "max       1.000000    1.000000    1.000000    1.000000         16.000000   \n",
      "\n",
      "         is_top500    status  \n",
      "count   923.000000       923  \n",
      "unique         NaN         2  \n",
      "top            NaN  acquired  \n",
      "freq           NaN       597  \n",
      "first          NaN       NaN  \n",
      "last           NaN       NaN  \n",
      "mean      0.809317       NaN  \n",
      "std       0.393052       NaN  \n",
      "min       0.000000       NaN  \n",
      "25%       1.000000       NaN  \n",
      "50%       1.000000       NaN  \n",
      "75%       1.000000       NaN  \n",
      "max       1.000000       NaN  \n",
      "\n",
      "[13 rows x 45 columns]\n"
     ]
    }
   ],
   "source": [
    "# Checking Data Statistics\n",
    "print(data.describe(include=\"all\"))\n"
   ]
  },
  {
   "cell_type": "code",
   "execution_count": 9,
   "id": "59d4c39f",
   "metadata": {},
   "outputs": [
    {
     "data": {
      "text/plain": [
       "<AxesSubplot:>"
      ]
     },
     "execution_count": 9,
     "metadata": {},
     "output_type": "execute_result"
    },
    {
     "data": {
      "image/png": "[encoded data removed]",
      "text/plain": [
       "<Figure size 432x288 with 1 Axes>"
      ]
     },
     "metadata": {
      "needs_background": "light"
     },
     "output_type": "display_data"
    }
   ],
   "source": [
    "data.state_code.value_counts().head().plot(kind=\"bar\")"
   ]
  },
  {
   "cell_type": "code",
   "execution_count": 10,
   "id": "111884fb",
   "metadata": {},
   "outputs": [
    {
     "name": "stderr",
     "output_type": "stream",
     "text": [
      "C:\\Users\\Vaibhav\\AppData\\Roaming\\Python\\Python310\\site-packages\\seaborn\\_decorators.py:36: FutureWarning: Pass the following variable as a keyword arg: x. From version 0.12, the only valid positional argument will be `data`, and passing other arguments without an explicit keyword will result in an error or misinterpretation.\n",
      "  warnings.warn(\n"
     ]
    },
    {
     "data": {
      "text/plain": [
       "<AxesSubplot:xlabel='funding_rounds', ylabel='count'>"
      ]
     },
     "execution_count": 10,
     "metadata": {},
     "output_type": "execute_result"
    },
    {
     "data": {
      "image/png": "[encoded data removed]",
      "text/plain": [
       "<Figure size 432x288 with 1 Axes>"
      ]
     },
     "metadata": {
      "needs_background": "light"
     },
     "output_type": "display_data"
    }
   ],
   "source": [
    "sns.countplot(data.funding_rounds)"
   ]
  },
  {
   "cell_type": "code",
   "execution_count": 11,
   "id": "b98dd6eb",
   "metadata": {},
   "outputs": [
    {
     "data": {
      "text/plain": [
       "<AxesSubplot:>"
      ]
     },
     "execution_count": 11,
     "metadata": {},
     "output_type": "execute_result"
    },
    {
     "data": {
      "image/png": "[encoded data removed]",
      "text/plain": [
       "<Figure size 432x288 with 1 Axes>"
      ]
     },
     "metadata": {
      "needs_background": "light"
     },
     "output_type": "display_data"
    }
   ],
   "source": [
    "data.category_code.value_counts().head(15).plot(kind=\"bar\")"
   ]
  },
  {
   "cell_type": "code",
   "execution_count": 12,
   "id": "4e7fd24d",
   "metadata": {},
   "outputs": [
    {
     "data": {
      "image/png": "[encoded data removed]",
      "text/plain": [
       "<Figure size 864x432 with 1 Axes>"
      ]
     },
     "metadata": {
      "needs_background": "light"
     },
     "output_type": "display_data"
    }
   ],
   "source": [
    "# Calculate the average funding total for each category\n",
    "category_avg_funding = data.groupby('category_code').mean()['funding_total_usd'].sort_values(ascending=False)\n",
    "\n",
    "# Create a bar chart\n",
    "plt.figure(figsize=(12, 6))\n",
    "sns.barplot(x=category_avg_funding.index, y=category_avg_funding.values, palette='viridis')\n",
    "plt.xticks(rotation=90)\n",
    "plt.xlabel('Category')\n",
    "plt.ylabel('Average Funding Total (USD)')\n",
    "plt.title('Average Funding by Startup Category')\n",
    "plt.tight_layout()\n",
    "plt.show()\n"
   ]
  },
  {
   "cell_type": "code",
   "execution_count": 13,
   "id": "ecc7756a",
   "metadata": {
    "scrolled": true
   },
   "outputs": [
    {
     "data": {
      "text/plain": [
       "<AxesSubplot:ylabel='status'>"
      ]
     },
     "execution_count": 13,
     "metadata": {},
     "output_type": "execute_result"
    },
    {
     "data": {
      "image/png": "[encoded data removed]",
      "text/plain": [
       "<Figure size 432x288 with 1 Axes>"
      ]
     },
     "metadata": {},
     "output_type": "display_data"
    }
   ],
   "source": [
    "data.status.value_counts().plot(kind=\"pie\") "
   ]
  },
  {
   "cell_type": "markdown",
   "id": "c673c879",
   "metadata": {},
   "source": [
    "#### Insides \n",
    "Data consist of 923 rows.\n",
    "Most startups are from CA state.\n",
    "Most of the startups are from Software sector.\n",
    "Mobile Category have higest avg funding.\n",
    "Around 65% startups are acquired.\n"
   ]
  },
  {
   "cell_type": "markdown",
   "id": "f6de5e3f",
   "metadata": {},
   "source": [
    "### Creating Model and Evaluation"
   ]
  },
  {
   "cell_type": "code",
   "execution_count": 14,
   "id": "951b0882",
   "metadata": {},
   "outputs": [
    {
     "data": {
      "text/html": [
       "<div>\n",
       "<style scoped>\n",
       "    .dataframe tbody tr th:only-of-type {\n",
       "        vertical-align: middle;\n",
       "    }\n",
       "\n",
       "    .dataframe tbody tr th {\n",
       "        vertical-align: top;\n",
       "    }\n",
       "\n",
       "    .dataframe thead th {\n",
       "        text-align: right;\n",
       "    }\n",
       "</style>\n",
       "<table border=\"1\" class=\"dataframe\">\n",
       "  <thead>\n",
       "    <tr style=\"text-align: right;\">\n",
       "      <th></th>\n",
       "      <th>funding_total_usd</th>\n",
       "      <th>age_first_funding_year</th>\n",
       "      <th>age_last_funding_year</th>\n",
       "      <th>relationships</th>\n",
       "      <th>funding_rounds</th>\n",
       "      <th>avg_participants</th>\n",
       "      <th>is_CA</th>\n",
       "      <th>is_NY</th>\n",
       "      <th>is_MA</th>\n",
       "      <th>is_TX</th>\n",
       "      <th>...</th>\n",
       "      <th>is_biotech</th>\n",
       "      <th>is_consulting</th>\n",
       "      <th>is_othercategory</th>\n",
       "      <th>has_VC</th>\n",
       "      <th>has_angel</th>\n",
       "      <th>has_roundA</th>\n",
       "      <th>has_roundB</th>\n",
       "      <th>has_roundC</th>\n",
       "      <th>has_roundD</th>\n",
       "      <th>status</th>\n",
       "    </tr>\n",
       "  </thead>\n",
       "  <tbody>\n",
       "    <tr>\n",
       "      <th>0</th>\n",
       "      <td>375000</td>\n",
       "      <td>2.2493</td>\n",
       "      <td>3.0027</td>\n",
       "      <td>3</td>\n",
       "      <td>3</td>\n",
       "      <td>1.0000</td>\n",
       "      <td>1</td>\n",
       "      <td>0</td>\n",
       "      <td>0</td>\n",
       "      <td>0</td>\n",
       "      <td>...</td>\n",
       "      <td>0</td>\n",
       "      <td>0</td>\n",
       "      <td>1</td>\n",
       "      <td>0</td>\n",
       "      <td>1</td>\n",
       "      <td>0</td>\n",
       "      <td>0</td>\n",
       "      <td>0</td>\n",
       "      <td>0</td>\n",
       "      <td>acquired</td>\n",
       "    </tr>\n",
       "    <tr>\n",
       "      <th>1</th>\n",
       "      <td>40100000</td>\n",
       "      <td>5.1260</td>\n",
       "      <td>9.9973</td>\n",
       "      <td>9</td>\n",
       "      <td>4</td>\n",
       "      <td>4.7500</td>\n",
       "      <td>1</td>\n",
       "      <td>0</td>\n",
       "      <td>0</td>\n",
       "      <td>0</td>\n",
       "      <td>...</td>\n",
       "      <td>0</td>\n",
       "      <td>0</td>\n",
       "      <td>0</td>\n",
       "      <td>1</td>\n",
       "      <td>0</td>\n",
       "      <td>0</td>\n",
       "      <td>1</td>\n",
       "      <td>1</td>\n",
       "      <td>1</td>\n",
       "      <td>acquired</td>\n",
       "    </tr>\n",
       "    <tr>\n",
       "      <th>2</th>\n",
       "      <td>2600000</td>\n",
       "      <td>1.0329</td>\n",
       "      <td>1.0329</td>\n",
       "      <td>5</td>\n",
       "      <td>1</td>\n",
       "      <td>4.0000</td>\n",
       "      <td>1</td>\n",
       "      <td>0</td>\n",
       "      <td>0</td>\n",
       "      <td>0</td>\n",
       "      <td>...</td>\n",
       "      <td>0</td>\n",
       "      <td>0</td>\n",
       "      <td>0</td>\n",
       "      <td>0</td>\n",
       "      <td>0</td>\n",
       "      <td>1</td>\n",
       "      <td>0</td>\n",
       "      <td>0</td>\n",
       "      <td>0</td>\n",
       "      <td>acquired</td>\n",
       "    </tr>\n",
       "    <tr>\n",
       "      <th>3</th>\n",
       "      <td>40000000</td>\n",
       "      <td>3.1315</td>\n",
       "      <td>5.3151</td>\n",
       "      <td>5</td>\n",
       "      <td>3</td>\n",
       "      <td>3.3333</td>\n",
       "      <td>1</td>\n",
       "      <td>0</td>\n",
       "      <td>0</td>\n",
       "      <td>0</td>\n",
       "      <td>...</td>\n",
       "      <td>0</td>\n",
       "      <td>0</td>\n",
       "      <td>0</td>\n",
       "      <td>0</td>\n",
       "      <td>0</td>\n",
       "      <td>0</td>\n",
       "      <td>1</td>\n",
       "      <td>1</td>\n",
       "      <td>1</td>\n",
       "      <td>acquired</td>\n",
       "    </tr>\n",
       "    <tr>\n",
       "      <th>4</th>\n",
       "      <td>1300000</td>\n",
       "      <td>0.0000</td>\n",
       "      <td>1.6685</td>\n",
       "      <td>2</td>\n",
       "      <td>2</td>\n",
       "      <td>1.0000</td>\n",
       "      <td>1</td>\n",
       "      <td>0</td>\n",
       "      <td>0</td>\n",
       "      <td>0</td>\n",
       "      <td>...</td>\n",
       "      <td>0</td>\n",
       "      <td>0</td>\n",
       "      <td>0</td>\n",
       "      <td>1</td>\n",
       "      <td>1</td>\n",
       "      <td>0</td>\n",
       "      <td>0</td>\n",
       "      <td>0</td>\n",
       "      <td>0</td>\n",
       "      <td>closed</td>\n",
       "    </tr>\n",
       "    <tr>\n",
       "      <th>...</th>\n",
       "      <td>...</td>\n",
       "      <td>...</td>\n",
       "      <td>...</td>\n",
       "      <td>...</td>\n",
       "      <td>...</td>\n",
       "      <td>...</td>\n",
       "      <td>...</td>\n",
       "      <td>...</td>\n",
       "      <td>...</td>\n",
       "      <td>...</td>\n",
       "      <td>...</td>\n",
       "      <td>...</td>\n",
       "      <td>...</td>\n",
       "      <td>...</td>\n",
       "      <td>...</td>\n",
       "      <td>...</td>\n",
       "      <td>...</td>\n",
       "      <td>...</td>\n",
       "      <td>...</td>\n",
       "      <td>...</td>\n",
       "      <td>...</td>\n",
       "    </tr>\n",
       "    <tr>\n",
       "      <th>918</th>\n",
       "      <td>1100000</td>\n",
       "      <td>0.5178</td>\n",
       "      <td>0.5178</td>\n",
       "      <td>9</td>\n",
       "      <td>1</td>\n",
       "      <td>6.0000</td>\n",
       "      <td>1</td>\n",
       "      <td>0</td>\n",
       "      <td>0</td>\n",
       "      <td>0</td>\n",
       "      <td>...</td>\n",
       "      <td>0</td>\n",
       "      <td>0</td>\n",
       "      <td>0</td>\n",
       "      <td>0</td>\n",
       "      <td>0</td>\n",
       "      <td>1</td>\n",
       "      <td>0</td>\n",
       "      <td>0</td>\n",
       "      <td>0</td>\n",
       "      <td>acquired</td>\n",
       "    </tr>\n",
       "    <tr>\n",
       "      <th>919</th>\n",
       "      <td>52000000</td>\n",
       "      <td>7.2521</td>\n",
       "      <td>9.2274</td>\n",
       "      <td>1</td>\n",
       "      <td>3</td>\n",
       "      <td>2.6667</td>\n",
       "      <td>0</td>\n",
       "      <td>0</td>\n",
       "      <td>1</td>\n",
       "      <td>0</td>\n",
       "      <td>...</td>\n",
       "      <td>0</td>\n",
       "      <td>0</td>\n",
       "      <td>1</td>\n",
       "      <td>1</td>\n",
       "      <td>0</td>\n",
       "      <td>0</td>\n",
       "      <td>1</td>\n",
       "      <td>0</td>\n",
       "      <td>0</td>\n",
       "      <td>closed</td>\n",
       "    </tr>\n",
       "    <tr>\n",
       "      <th>920</th>\n",
       "      <td>44000000</td>\n",
       "      <td>8.4959</td>\n",
       "      <td>8.4959</td>\n",
       "      <td>5</td>\n",
       "      <td>1</td>\n",
       "      <td>8.0000</td>\n",
       "      <td>1</td>\n",
       "      <td>0</td>\n",
       "      <td>0</td>\n",
       "      <td>0</td>\n",
       "      <td>...</td>\n",
       "      <td>1</td>\n",
       "      <td>0</td>\n",
       "      <td>0</td>\n",
       "      <td>0</td>\n",
       "      <td>0</td>\n",
       "      <td>0</td>\n",
       "      <td>0</td>\n",
       "      <td>0</td>\n",
       "      <td>1</td>\n",
       "      <td>closed</td>\n",
       "    </tr>\n",
       "    <tr>\n",
       "      <th>921</th>\n",
       "      <td>15500000</td>\n",
       "      <td>0.7589</td>\n",
       "      <td>2.8329</td>\n",
       "      <td>12</td>\n",
       "      <td>2</td>\n",
       "      <td>1.0000</td>\n",
       "      <td>1</td>\n",
       "      <td>0</td>\n",
       "      <td>0</td>\n",
       "      <td>0</td>\n",
       "      <td>...</td>\n",
       "      <td>0</td>\n",
       "      <td>0</td>\n",
       "      <td>0</td>\n",
       "      <td>0</td>\n",
       "      <td>0</td>\n",
       "      <td>1</td>\n",
       "      <td>1</td>\n",
       "      <td>0</td>\n",
       "      <td>0</td>\n",
       "      <td>acquired</td>\n",
       "    </tr>\n",
       "    <tr>\n",
       "      <th>922</th>\n",
       "      <td>20000000</td>\n",
       "      <td>3.1205</td>\n",
       "      <td>3.1205</td>\n",
       "      <td>4</td>\n",
       "      <td>1</td>\n",
       "      <td>3.0000</td>\n",
       "      <td>1</td>\n",
       "      <td>0</td>\n",
       "      <td>0</td>\n",
       "      <td>0</td>\n",
       "      <td>...</td>\n",
       "      <td>0</td>\n",
       "      <td>0</td>\n",
       "      <td>1</td>\n",
       "      <td>0</td>\n",
       "      <td>0</td>\n",
       "      <td>0</td>\n",
       "      <td>1</td>\n",
       "      <td>0</td>\n",
       "      <td>0</td>\n",
       "      <td>acquired</td>\n",
       "    </tr>\n",
       "  </tbody>\n",
       "</table>\n",
       "<p>923 rows × 28 columns</p>\n",
       "</div>"
      ],
      "text/plain": [
       "     funding_total_usd  age_first_funding_year  age_last_funding_year  \\\n",
       "0               375000                  2.2493                 3.0027   \n",
       "1             40100000                  5.1260                 9.9973   \n",
       "2              2600000                  1.0329                 1.0329   \n",
       "3             40000000                  3.1315                 5.3151   \n",
       "4              1300000                  0.0000                 1.6685   \n",
       "..                 ...                     ...                    ...   \n",
       "918            1100000                  0.5178                 0.5178   \n",
       "919           52000000                  7.2521                 9.2274   \n",
       "920           44000000                  8.4959                 8.4959   \n",
       "921           15500000                  0.7589                 2.8329   \n",
       "922           20000000                  3.1205                 3.1205   \n",
       "\n",
       "     relationships  funding_rounds  avg_participants  is_CA  is_NY  is_MA  \\\n",
       "0                3               3            1.0000      1      0      0   \n",
       "1                9               4            4.7500      1      0      0   \n",
       "2                5               1            4.0000      1      0      0   \n",
       "3                5               3            3.3333      1      0      0   \n",
       "4                2               2            1.0000      1      0      0   \n",
       "..             ...             ...               ...    ...    ...    ...   \n",
       "918              9               1            6.0000      1      0      0   \n",
       "919              1               3            2.6667      0      0      1   \n",
       "920              5               1            8.0000      1      0      0   \n",
       "921             12               2            1.0000      1      0      0   \n",
       "922              4               1            3.0000      1      0      0   \n",
       "\n",
       "     is_TX  ...  is_biotech  is_consulting  is_othercategory  has_VC  \\\n",
       "0        0  ...           0              0                 1       0   \n",
       "1        0  ...           0              0                 0       1   \n",
       "2        0  ...           0              0                 0       0   \n",
       "3        0  ...           0              0                 0       0   \n",
       "4        0  ...           0              0                 0       1   \n",
       "..     ...  ...         ...            ...               ...     ...   \n",
       "918      0  ...           0              0                 0       0   \n",
       "919      0  ...           0              0                 1       1   \n",
       "920      0  ...           1              0                 0       0   \n",
       "921      0  ...           0              0                 0       0   \n",
       "922      0  ...           0              0                 1       0   \n",
       "\n",
       "     has_angel  has_roundA  has_roundB  has_roundC  has_roundD    status  \n",
       "0            1           0           0           0           0  acquired  \n",
       "1            0           0           1           1           1  acquired  \n",
       "2            0           1           0           0           0  acquired  \n",
       "3            0           0           1           1           1  acquired  \n",
       "4            1           0           0           0           0    closed  \n",
       "..         ...         ...         ...         ...         ...       ...  \n",
       "918          0           1           0           0           0  acquired  \n",
       "919          0           0           1           0           0    closed  \n",
       "920          0           0           0           0           1    closed  \n",
       "921          0           1           1           0           0  acquired  \n",
       "922          0           0           1           0           0  acquired  \n",
       "\n",
       "[923 rows x 28 columns]"
      ]
     },
     "execution_count": 14,
     "metadata": {},
     "output_type": "execute_result"
    }
   ],
   "source": [
    "# Feature selection\n",
    "selected_features = ['funding_total_usd', 'age_first_funding_year', 'age_last_funding_year', 'relationships',\n",
    "                     'funding_rounds', 'avg_participants', 'is_CA', 'is_NY', 'is_MA', 'is_TX',\n",
    "                     'is_otherstate', 'is_software', 'is_web', 'is_mobile', 'is_enterprise',\n",
    "                     'is_advertising', 'is_gamesvideo', 'is_ecommerce', 'is_biotech', 'is_consulting',\n",
    "                     'is_othercategory', 'has_VC', 'has_angel', 'has_roundA', 'has_roundB', 'has_roundC', 'has_roundD',\"status\"]\n",
    "data1=data[selected_features]\n",
    "data1"
   ]
  },
  {
   "cell_type": "code",
   "execution_count": 15,
   "id": "5f52265e",
   "metadata": {},
   "outputs": [
    {
     "data": {
      "text/plain": [
       "funding_total_usd         0\n",
       "age_first_funding_year    0\n",
       "age_last_funding_year     0\n",
       "relationships             0\n",
       "funding_rounds            0\n",
       "avg_participants          0\n",
       "is_CA                     0\n",
       "is_NY                     0\n",
       "is_MA                     0\n",
       "is_TX                     0\n",
       "is_otherstate             0\n",
       "is_software               0\n",
       "is_web                    0\n",
       "is_mobile                 0\n",
       "is_enterprise             0\n",
       "is_advertising            0\n",
       "is_gamesvideo             0\n",
       "is_ecommerce              0\n",
       "is_biotech                0\n",
       "is_consulting             0\n",
       "is_othercategory          0\n",
       "has_VC                    0\n",
       "has_angel                 0\n",
       "has_roundA                0\n",
       "has_roundB                0\n",
       "has_roundC                0\n",
       "has_roundD                0\n",
       "status                    0\n",
       "dtype: int64"
      ]
     },
     "execution_count": 15,
     "metadata": {},
     "output_type": "execute_result"
    }
   ],
   "source": [
    "data1.isna().sum()"
   ]
  },
  {
   "cell_type": "code",
   "execution_count": 16,
   "id": "641e6f61",
   "metadata": {},
   "outputs": [],
   "source": [
    "# Choosing indipendent variables and target variable\n",
    "X=data1.drop(columns=\"status\")\n",
    "y=data1[\"status\"]"
   ]
  },
  {
   "cell_type": "code",
   "execution_count": 17,
   "id": "ed4def50",
   "metadata": {},
   "outputs": [
    {
     "data": {
      "text/plain": [
       "(923, 28)"
      ]
     },
     "execution_count": 17,
     "metadata": {},
     "output_type": "execute_result"
    }
   ],
   "source": [
    "data1.shape"
   ]
  },
  {
   "cell_type": "code",
   "execution_count": 18,
   "id": "64597533",
   "metadata": {},
   "outputs": [],
   "source": [
    "# Split the dataset into training and testing sets\n",
    "X_train, X_test, y_train, y_test = train_test_split(X, y, test_size=0.2, random_state=42, stratify=y)\n"
   ]
  },
  {
   "cell_type": "code",
   "execution_count": 19,
   "id": "4636662f",
   "metadata": {},
   "outputs": [
    {
     "name": "stdout",
     "output_type": "stream",
     "text": [
      "Accuracy: 76.22%\n",
      "Classification Report:\n",
      "              precision    recall  f1-score   support\n",
      "\n",
      "    acquired       0.81      0.83      0.82       120\n",
      "      closed       0.67      0.63      0.65        65\n",
      "\n",
      "    accuracy                           0.76       185\n",
      "   macro avg       0.74      0.73      0.74       185\n",
      "weighted avg       0.76      0.76      0.76       185\n",
      "\n",
      "Confusion Matrix:\n"
     ]
    },
    {
     "data": {
      "text/plain": [
       "<AxesSubplot:>"
      ]
     },
     "execution_count": 19,
     "metadata": {},
     "output_type": "execute_result"
    },
    {
     "data": {
      "image/png": "[encoded data removed]",
      "text/plain": [
       "<Figure size 432x288 with 2 Axes>"
      ]
     },
     "metadata": {
      "needs_background": "light"
     },
     "output_type": "display_data"
    }
   ],
   "source": [
    "# Model Selection and Training\n",
    "model = RandomForestClassifier(max_depth= None, min_samples_leaf= 2, min_samples_split= 10, n_estimators= 200)\n",
    "model.fit(X_train, y_train)\n",
    "\n",
    "# Model Evaluation\n",
    "y_pred = model.predict(X_test)\n",
    "\n",
    "accuracy = accuracy_score(y_test, y_pred)\n",
    "print(\"Accuracy: {:.2f}%\".format(accuracy * 100))\n",
    "\n",
    "print(\"Classification Report:\")\n",
    "print(classification_report(y_test, y_pred))\n",
    "\n",
    "print(\"Confusion Matrix:\")\n",
    "sns.heatmap(confusion_matrix(y_test, y_pred), annot=True, fmt='.5g')\n"
   ]
  }
 ],
 "metadata": {
  "kernelspec": {
   "display_name": "Python 3 (ipykernel)",
   "language": "python",
   "name": "python3"
  },
  "language_info": {
   "codemirror_mode": {
    "name": "ipython",
    "version": 3
   },
   "file_extension": ".py",
   "mimetype": "text/x-python",
   "name": "python",
   "nbconvert_exporter": "python",
   "pygments_lexer": "ipython3",
   "version": "3.10.0"
  },
  "varInspector": {
   "cols": {
    "lenName": 16,
    "lenType": 16,
    "lenVar": 40
   },
   "kernels_config": {
    "python": {
     "delete_cmd_postfix": "",
     "delete_cmd_prefix": "del ",
     "library": "var_list.py",
     "varRefreshCmd": "print(var_dic_list())"
    },
    "r": {
     "delete_cmd_postfix": ") ",
     "delete_cmd_prefix": "rm(",
     "library": "var_list.r",
     "varRefreshCmd": "cat(var_dic_list()) "
    }
   },
   "types_to_exclude": [
    "module",
    "function",
    "builtin_function_or_method",
    "instance",
    "_Feature"
   ],
   "window_display": false
  }
 },
 "nbformat": 4,
 "nbformat_minor": 5
}
